{
  "cells": [
    {
      "cell_type": "markdown",
      "metadata": {
        "id": "view-in-github",
        "colab_type": "text"
      },
      "source": [
        "<a href=\"https://colab.research.google.com/github/KneeeeKill/foodhub_analysis/blob/main/E_Dart%2B_%2BPython%2BProject%2BLearner%2BNotebook_(1).ipynb\" target=\"_parent\"><img src=\"https://colab.research.google.com/assets/colab-badge.svg\" alt=\"Open In Colab\"/></a>"
      ]
    },
    {
      "cell_type": "markdown",
      "metadata": {
        "id": "Gc8x8QimJY_H"
      },
      "source": [
        "\n",
        "\n",
        "# Project Python Foundations: FoodHub Data Analysis\n",
        "\n",
        "**Marks: 50**"
      ]
    },
    {
      "cell_type": "markdown",
      "metadata": {
        "id": "NqikjkWwJY_L"
      },
      "source": [
        "### Context\n",
        "\n",
        "The number of restaurants in New York is increasing day by day. Lots of students and busy professionals rely on those restaurants due to their hectic lifestyles. Online food delivery service is a great option for them. It provides them with good food from their favorite restaurants. A food aggregator company FoodHub offers access to multiple restaurants through a single smartphone app.\n",
        "\n",
        "The app allows the restaurants to receive a direct online order from a customer. The app assigns a delivery person from the company to pick up the order after it is confirmed by the restaurant. The delivery person then uses the map to reach the restaurant and waits for the food package. Once the food package is handed over to the delivery person, he/she confirms the pick-up in the app and travels to the customer's location to deliver the food. The delivery person confirms the drop-off in the app after delivering the food package to the customer. The customer can rate the order in the app. The food aggregator earns money by collecting a fixed margin of the delivery order from the restaurants.\n",
        "\n",
        "### Objective\n",
        "\n",
        "The food aggregator company has stored the data of the different orders made by the registered customers in their online portal. They want to analyze the data to get a fair idea about the demand of different restaurants which will help them in enhancing their customer experience. Suppose you are hired as a Data Scientist in this company and the Data Science team has shared some of the key questions that need to be answered. Perform the data analysis to find answers to these questions that will help the company to improve the business.\n",
        "\n",
        "### Data Description\n",
        "\n",
        "The data contains the different data related to a food order. The detailed data dictionary is given below.\n",
        "\n",
        "### Data Dictionary\n",
        "\n",
        "* order_id: Unique ID of the order\n",
        "* customer_id: ID of the customer who ordered the food\n",
        "* restaurant_name: Name of the restaurant\n",
        "* cuisine_type: Cuisine ordered by the customer\n",
        "* cost: Cost of the order\n",
        "* day_of_the_week: Indicates whether the order is placed on a weekday or weekend (The weekday is from Monday to Friday and the weekend is Saturday and Sunday)\n",
        "* rating: Rating given by the customer out of 5\n",
        "* food_preparation_time: Time (in minutes) taken by the restaurant to prepare the food. This is calculated by taking the difference between the timestamps of the restaurant's order confirmation and the delivery person's pick-up confirmation.\n",
        "* delivery_time: Time (in minutes) taken by the delivery person to deliver the food package. This is calculated by taking the difference between the timestamps of the delivery person's pick-up confirmation and drop-off information"
      ]
    },
    {
      "cell_type": "markdown",
      "metadata": {
        "id": "cEtNUxNAJY_M"
      },
      "source": [
        "### Let us start by importing the required libraries"
      ]
    },
    {
      "cell_type": "code",
      "execution_count": 1,
      "metadata": {
        "id": "u6PlpJAPJY_N"
      },
      "outputs": [],
      "source": [
        "# import libraries for data manipulation\n",
        "import numpy as np\n",
        "import pandas as pd\n",
        "\n",
        "# import libraries for data visualization\n",
        "import matplotlib.pyplot as plt\n",
        "import seaborn as sns"
      ]
    },
    {
      "cell_type": "markdown",
      "metadata": {
        "id": "AdracY0HJY_O"
      },
      "source": [
        "### Understanding the structure of the data"
      ]
    },
    {
      "cell_type": "code",
      "execution_count": 3,
      "metadata": {
        "id": "WBh2ZGB9kFhU",
        "colab": {
          "base_uri": "https://localhost:8080/"
        },
        "outputId": "271a451d-69dd-4196-9ebb-9d7ea3c0df9f"
      },
      "outputs": [
        {
          "output_type": "stream",
          "name": "stdout",
          "text": [
            "Mounted at /EXL\n"
          ]
        }
      ],
      "source": [
        "# uncomment and run the following lines for Google Colab\n",
        "from google.colab import drive\n",
        "drive.mount('/EXL')"
      ]
    },
    {
      "cell_type": "code",
      "execution_count": 4,
      "metadata": {
        "id": "GF01IZDbJY_O",
        "scrolled": true,
        "colab": {
          "base_uri": "https://localhost:8080/",
          "height": 258
        },
        "outputId": "e729a393-1e36-46ca-f46b-4cfb48724c16"
      },
      "outputs": [
        {
          "output_type": "execute_result",
          "data": {
            "text/plain": [
              "   order_id  customer_id            restaurant_name cuisine_type  \\\n",
              "0   1477147       337525                    Hangawi       Korean   \n",
              "1   1477685       358141  Blue Ribbon Sushi Izakaya     Japanese   \n",
              "2   1477070        66393                Cafe Habana      Mexican   \n",
              "3   1477334       106968  Blue Ribbon Fried Chicken     American   \n",
              "4   1478249        76942           Dirty Bird to Go     American   \n",
              "\n",
              "   cost_of_the_order day_of_the_week     rating  food_preparation_time  \\\n",
              "0              30.75         Weekend  Not given                     25   \n",
              "1              12.08         Weekend  Not given                     25   \n",
              "2              12.23         Weekday          5                     23   \n",
              "3              29.20         Weekend          3                     25   \n",
              "4              11.59         Weekday          4                     25   \n",
              "\n",
              "   delivery_time  \n",
              "0             20  \n",
              "1             23  \n",
              "2             28  \n",
              "3             15  \n",
              "4             24  "
            ],
            "text/html": [
              "\n",
              "  <div id=\"df-273ae7b2-9668-4204-a383-828b1e4fa629\" class=\"colab-df-container\">\n",
              "    <div>\n",
              "<style scoped>\n",
              "    .dataframe tbody tr th:only-of-type {\n",
              "        vertical-align: middle;\n",
              "    }\n",
              "\n",
              "    .dataframe tbody tr th {\n",
              "        vertical-align: top;\n",
              "    }\n",
              "\n",
              "    .dataframe thead th {\n",
              "        text-align: right;\n",
              "    }\n",
              "</style>\n",
              "<table border=\"1\" class=\"dataframe\">\n",
              "  <thead>\n",
              "    <tr style=\"text-align: right;\">\n",
              "      <th></th>\n",
              "      <th>order_id</th>\n",
              "      <th>customer_id</th>\n",
              "      <th>restaurant_name</th>\n",
              "      <th>cuisine_type</th>\n",
              "      <th>cost_of_the_order</th>\n",
              "      <th>day_of_the_week</th>\n",
              "      <th>rating</th>\n",
              "      <th>food_preparation_time</th>\n",
              "      <th>delivery_time</th>\n",
              "    </tr>\n",
              "  </thead>\n",
              "  <tbody>\n",
              "    <tr>\n",
              "      <th>0</th>\n",
              "      <td>1477147</td>\n",
              "      <td>337525</td>\n",
              "      <td>Hangawi</td>\n",
              "      <td>Korean</td>\n",
              "      <td>30.75</td>\n",
              "      <td>Weekend</td>\n",
              "      <td>Not given</td>\n",
              "      <td>25</td>\n",
              "      <td>20</td>\n",
              "    </tr>\n",
              "    <tr>\n",
              "      <th>1</th>\n",
              "      <td>1477685</td>\n",
              "      <td>358141</td>\n",
              "      <td>Blue Ribbon Sushi Izakaya</td>\n",
              "      <td>Japanese</td>\n",
              "      <td>12.08</td>\n",
              "      <td>Weekend</td>\n",
              "      <td>Not given</td>\n",
              "      <td>25</td>\n",
              "      <td>23</td>\n",
              "    </tr>\n",
              "    <tr>\n",
              "      <th>2</th>\n",
              "      <td>1477070</td>\n",
              "      <td>66393</td>\n",
              "      <td>Cafe Habana</td>\n",
              "      <td>Mexican</td>\n",
              "      <td>12.23</td>\n",
              "      <td>Weekday</td>\n",
              "      <td>5</td>\n",
              "      <td>23</td>\n",
              "      <td>28</td>\n",
              "    </tr>\n",
              "    <tr>\n",
              "      <th>3</th>\n",
              "      <td>1477334</td>\n",
              "      <td>106968</td>\n",
              "      <td>Blue Ribbon Fried Chicken</td>\n",
              "      <td>American</td>\n",
              "      <td>29.20</td>\n",
              "      <td>Weekend</td>\n",
              "      <td>3</td>\n",
              "      <td>25</td>\n",
              "      <td>15</td>\n",
              "    </tr>\n",
              "    <tr>\n",
              "      <th>4</th>\n",
              "      <td>1478249</td>\n",
              "      <td>76942</td>\n",
              "      <td>Dirty Bird to Go</td>\n",
              "      <td>American</td>\n",
              "      <td>11.59</td>\n",
              "      <td>Weekday</td>\n",
              "      <td>4</td>\n",
              "      <td>25</td>\n",
              "      <td>24</td>\n",
              "    </tr>\n",
              "  </tbody>\n",
              "</table>\n",
              "</div>\n",
              "    <div class=\"colab-df-buttons\">\n",
              "\n",
              "  <div class=\"colab-df-container\">\n",
              "    <button class=\"colab-df-convert\" onclick=\"convertToInteractive('df-273ae7b2-9668-4204-a383-828b1e4fa629')\"\n",
              "            title=\"Convert this dataframe to an interactive table.\"\n",
              "            style=\"display:none;\">\n",
              "\n",
              "  <svg xmlns=\"http://www.w3.org/2000/svg\" height=\"24px\" viewBox=\"0 -960 960 960\">\n",
              "    <path d=\"M120-120v-720h720v720H120Zm60-500h600v-160H180v160Zm220 220h160v-160H400v160Zm0 220h160v-160H400v160ZM180-400h160v-160H180v160Zm440 0h160v-160H620v160ZM180-180h160v-160H180v160Zm440 0h160v-160H620v160Z\"/>\n",
              "  </svg>\n",
              "    </button>\n",
              "\n",
              "  <style>\n",
              "    .colab-df-container {\n",
              "      display:flex;\n",
              "      gap: 12px;\n",
              "    }\n",
              "\n",
              "    .colab-df-convert {\n",
              "      background-color: #E8F0FE;\n",
              "      border: none;\n",
              "      border-radius: 50%;\n",
              "      cursor: pointer;\n",
              "      display: none;\n",
              "      fill: #1967D2;\n",
              "      height: 32px;\n",
              "      padding: 0 0 0 0;\n",
              "      width: 32px;\n",
              "    }\n",
              "\n",
              "    .colab-df-convert:hover {\n",
              "      background-color: #E2EBFA;\n",
              "      box-shadow: 0px 1px 2px rgba(60, 64, 67, 0.3), 0px 1px 3px 1px rgba(60, 64, 67, 0.15);\n",
              "      fill: #174EA6;\n",
              "    }\n",
              "\n",
              "    .colab-df-buttons div {\n",
              "      margin-bottom: 4px;\n",
              "    }\n",
              "\n",
              "    [theme=dark] .colab-df-convert {\n",
              "      background-color: #3B4455;\n",
              "      fill: #D2E3FC;\n",
              "    }\n",
              "\n",
              "    [theme=dark] .colab-df-convert:hover {\n",
              "      background-color: #434B5C;\n",
              "      box-shadow: 0px 1px 3px 1px rgba(0, 0, 0, 0.15);\n",
              "      filter: drop-shadow(0px 1px 2px rgba(0, 0, 0, 0.3));\n",
              "      fill: #FFFFFF;\n",
              "    }\n",
              "  </style>\n",
              "\n",
              "    <script>\n",
              "      const buttonEl =\n",
              "        document.querySelector('#df-273ae7b2-9668-4204-a383-828b1e4fa629 button.colab-df-convert');\n",
              "      buttonEl.style.display =\n",
              "        google.colab.kernel.accessAllowed ? 'block' : 'none';\n",
              "\n",
              "      async function convertToInteractive(key) {\n",
              "        const element = document.querySelector('#df-273ae7b2-9668-4204-a383-828b1e4fa629');\n",
              "        const dataTable =\n",
              "          await google.colab.kernel.invokeFunction('convertToInteractive',\n",
              "                                                    [key], {});\n",
              "        if (!dataTable) return;\n",
              "\n",
              "        const docLinkHtml = 'Like what you see? Visit the ' +\n",
              "          '<a target=\"_blank\" href=https://colab.research.google.com/notebooks/data_table.ipynb>data table notebook</a>'\n",
              "          + ' to learn more about interactive tables.';\n",
              "        element.innerHTML = '';\n",
              "        dataTable['output_type'] = 'display_data';\n",
              "        await google.colab.output.renderOutput(dataTable, element);\n",
              "        const docLink = document.createElement('div');\n",
              "        docLink.innerHTML = docLinkHtml;\n",
              "        element.appendChild(docLink);\n",
              "      }\n",
              "    </script>\n",
              "  </div>\n",
              "\n",
              "\n",
              "<div id=\"df-589492a0-7467-4414-bc66-226d7fb7ac6c\">\n",
              "  <button class=\"colab-df-quickchart\" onclick=\"quickchart('df-589492a0-7467-4414-bc66-226d7fb7ac6c')\"\n",
              "            title=\"Suggest charts.\"\n",
              "            style=\"display:none;\">\n",
              "\n",
              "<svg xmlns=\"http://www.w3.org/2000/svg\" height=\"24px\"viewBox=\"0 0 24 24\"\n",
              "     width=\"24px\">\n",
              "    <g>\n",
              "        <path d=\"M19 3H5c-1.1 0-2 .9-2 2v14c0 1.1.9 2 2 2h14c1.1 0 2-.9 2-2V5c0-1.1-.9-2-2-2zM9 17H7v-7h2v7zm4 0h-2V7h2v10zm4 0h-2v-4h2v4z\"/>\n",
              "    </g>\n",
              "</svg>\n",
              "  </button>\n",
              "\n",
              "<style>\n",
              "  .colab-df-quickchart {\n",
              "      --bg-color: #E8F0FE;\n",
              "      --fill-color: #1967D2;\n",
              "      --hover-bg-color: #E2EBFA;\n",
              "      --hover-fill-color: #174EA6;\n",
              "      --disabled-fill-color: #AAA;\n",
              "      --disabled-bg-color: #DDD;\n",
              "  }\n",
              "\n",
              "  [theme=dark] .colab-df-quickchart {\n",
              "      --bg-color: #3B4455;\n",
              "      --fill-color: #D2E3FC;\n",
              "      --hover-bg-color: #434B5C;\n",
              "      --hover-fill-color: #FFFFFF;\n",
              "      --disabled-bg-color: #3B4455;\n",
              "      --disabled-fill-color: #666;\n",
              "  }\n",
              "\n",
              "  .colab-df-quickchart {\n",
              "    background-color: var(--bg-color);\n",
              "    border: none;\n",
              "    border-radius: 50%;\n",
              "    cursor: pointer;\n",
              "    display: none;\n",
              "    fill: var(--fill-color);\n",
              "    height: 32px;\n",
              "    padding: 0;\n",
              "    width: 32px;\n",
              "  }\n",
              "\n",
              "  .colab-df-quickchart:hover {\n",
              "    background-color: var(--hover-bg-color);\n",
              "    box-shadow: 0 1px 2px rgba(60, 64, 67, 0.3), 0 1px 3px 1px rgba(60, 64, 67, 0.15);\n",
              "    fill: var(--button-hover-fill-color);\n",
              "  }\n",
              "\n",
              "  .colab-df-quickchart-complete:disabled,\n",
              "  .colab-df-quickchart-complete:disabled:hover {\n",
              "    background-color: var(--disabled-bg-color);\n",
              "    fill: var(--disabled-fill-color);\n",
              "    box-shadow: none;\n",
              "  }\n",
              "\n",
              "  .colab-df-spinner {\n",
              "    border: 2px solid var(--fill-color);\n",
              "    border-color: transparent;\n",
              "    border-bottom-color: var(--fill-color);\n",
              "    animation:\n",
              "      spin 1s steps(1) infinite;\n",
              "  }\n",
              "\n",
              "  @keyframes spin {\n",
              "    0% {\n",
              "      border-color: transparent;\n",
              "      border-bottom-color: var(--fill-color);\n",
              "      border-left-color: var(--fill-color);\n",
              "    }\n",
              "    20% {\n",
              "      border-color: transparent;\n",
              "      border-left-color: var(--fill-color);\n",
              "      border-top-color: var(--fill-color);\n",
              "    }\n",
              "    30% {\n",
              "      border-color: transparent;\n",
              "      border-left-color: var(--fill-color);\n",
              "      border-top-color: var(--fill-color);\n",
              "      border-right-color: var(--fill-color);\n",
              "    }\n",
              "    40% {\n",
              "      border-color: transparent;\n",
              "      border-right-color: var(--fill-color);\n",
              "      border-top-color: var(--fill-color);\n",
              "    }\n",
              "    60% {\n",
              "      border-color: transparent;\n",
              "      border-right-color: var(--fill-color);\n",
              "    }\n",
              "    80% {\n",
              "      border-color: transparent;\n",
              "      border-right-color: var(--fill-color);\n",
              "      border-bottom-color: var(--fill-color);\n",
              "    }\n",
              "    90% {\n",
              "      border-color: transparent;\n",
              "      border-bottom-color: var(--fill-color);\n",
              "    }\n",
              "  }\n",
              "</style>\n",
              "\n",
              "  <script>\n",
              "    async function quickchart(key) {\n",
              "      const quickchartButtonEl =\n",
              "        document.querySelector('#' + key + ' button');\n",
              "      quickchartButtonEl.disabled = true;  // To prevent multiple clicks.\n",
              "      quickchartButtonEl.classList.add('colab-df-spinner');\n",
              "      try {\n",
              "        const charts = await google.colab.kernel.invokeFunction(\n",
              "            'suggestCharts', [key], {});\n",
              "      } catch (error) {\n",
              "        console.error('Error during call to suggestCharts:', error);\n",
              "      }\n",
              "      quickchartButtonEl.classList.remove('colab-df-spinner');\n",
              "      quickchartButtonEl.classList.add('colab-df-quickchart-complete');\n",
              "    }\n",
              "    (() => {\n",
              "      let quickchartButtonEl =\n",
              "        document.querySelector('#df-589492a0-7467-4414-bc66-226d7fb7ac6c button');\n",
              "      quickchartButtonEl.style.display =\n",
              "        google.colab.kernel.accessAllowed ? 'block' : 'none';\n",
              "    })();\n",
              "  </script>\n",
              "</div>\n",
              "    </div>\n",
              "  </div>\n"
            ]
          },
          "metadata": {},
          "execution_count": 4
        }
      ],
      "source": [
        "# read the data\n",
        "df = pd.read_csv('/EXL/MyDrive/EXL/foodhub_order.csv')\n",
        "# returns the first 5 rows\n",
        "df.head()"
      ]
    },
    {
      "cell_type": "markdown",
      "metadata": {
        "id": "J_Y9aJDJJY_P"
      },
      "source": [
        "#### Observations:\n",
        "\n",
        "The DataFrame has 9 columns as mentioned in the Data Dictionary. Data in each row corresponds to the order placed by a customer."
      ]
    },
    {
      "cell_type": "markdown",
      "metadata": {
        "id": "c3kenV4vJY_Q"
      },
      "source": [
        "### **Question 1:** How many rows and columns are present in the data? [1mark]"
      ]
    },
    {
      "cell_type": "code",
      "execution_count": 5,
      "metadata": {
        "id": "Yvz5i-PhJY_Q",
        "colab": {
          "base_uri": "https://localhost:8080/"
        },
        "outputId": "f825f1bc-45e5-4121-bf13-173ff3b85230"
      },
      "outputs": [
        {
          "output_type": "stream",
          "name": "stdout",
          "text": [
            "The data contains 1898 rows and 9 columns.\n"
          ]
        }
      ],
      "source": [
        "# Write your code here\n",
        "# Get the number of rows and columns\n",
        "num_rows, num_columns = df.shape\n",
        "\n",
        "print(f'The data contains {num_rows} rows and {num_columns} columns.')"
      ]
    },
    {
      "cell_type": "markdown",
      "metadata": {
        "id": "UsTNy3unJY_R"
      },
      "source": [
        "#### Observations: There are 1898 Rows & 9 Columns present.\n"
      ]
    },
    {
      "cell_type": "markdown",
      "metadata": {
        "id": "jRXakVrUJY_R"
      },
      "source": [
        "### **Question 2:** What are the datatypes of the different columns in the dataset? (The info() function can be used) [1 mark]"
      ]
    },
    {
      "cell_type": "code",
      "execution_count": 6,
      "metadata": {
        "id": "Kp70Z0BNJY_R",
        "colab": {
          "base_uri": "https://localhost:8080/"
        },
        "outputId": "e83120a5-b547-4e12-b6d8-6e6bf94d33dc"
      },
      "outputs": [
        {
          "output_type": "stream",
          "name": "stdout",
          "text": [
            "<class 'pandas.core.frame.DataFrame'>\n",
            "RangeIndex: 1898 entries, 0 to 1897\n",
            "Data columns (total 9 columns):\n",
            " #   Column                 Non-Null Count  Dtype  \n",
            "---  ------                 --------------  -----  \n",
            " 0   order_id               1898 non-null   int64  \n",
            " 1   customer_id            1898 non-null   int64  \n",
            " 2   restaurant_name        1898 non-null   object \n",
            " 3   cuisine_type           1898 non-null   object \n",
            " 4   cost_of_the_order      1898 non-null   float64\n",
            " 5   day_of_the_week        1898 non-null   object \n",
            " 6   rating                 1898 non-null   object \n",
            " 7   food_preparation_time  1898 non-null   int64  \n",
            " 8   delivery_time          1898 non-null   int64  \n",
            "dtypes: float64(1), int64(4), object(4)\n",
            "memory usage: 133.6+ KB\n"
          ]
        }
      ],
      "source": [
        "# Use info() to print a concise summary of the DataFrame\n",
        "df.info()"
      ]
    },
    {
      "cell_type": "markdown",
      "metadata": {
        "id": "WJes5GP2JY_S"
      },
      "source": [
        "#### Observations:\n",
        "1. order_id, customer_id, food_preparation_time, and delivery_time are of integer type (int64), which is appropriate for representing unique IDs and time-related data.\n",
        "\n",
        "2. restaurant_name and cuisine_type are of object type (string). This indicates that they contain text data. These columns likely contain categorical information about the restaurants and the type of cuisine.\n",
        "\n",
        "3. cost_of_the_order is of float type (float64), which is suitable for representing monetary values with decimals.\n",
        "\n",
        "4. day_of_the_week and rating are also of object type. Depending on the context, it may be appropriate to convert rating to a numeric type (e.g., float) for further analysis.\n",
        "\n",
        "5. The dataset contains 1898 entries with no missing values for any of the columns. This is indicated by the \"Non-Null Count\" for each column, which is equal to the total number of entries (1898).\n",
        "\n",
        "6. The memory usage of the DataFrame is approximately 133.6 KB.\n"
      ]
    },
    {
      "cell_type": "markdown",
      "metadata": {
        "id": "jDHT3vD1JY_S"
      },
      "source": [
        "#### Observations: Overall, the data types seem appropriate for the respective columns, and there are no missing values in the dataset. However, if further analysis or specific operations require data type adjustments, they can be performed accordingly.\n"
      ]
    },
    {
      "cell_type": "markdown",
      "metadata": {
        "id": "MnJo7MWrJY_S"
      },
      "source": [
        "### **Question 3:** Check the statistical summary of the data. What is the minimum, average, and maximum time it takes for food to be prepared once an order is placed? [2 marks]"
      ]
    },
    {
      "cell_type": "code",
      "execution_count": 7,
      "metadata": {
        "id": "WprQBgOSJY_T",
        "colab": {
          "base_uri": "https://localhost:8080/"
        },
        "outputId": "b8d228ec-2275-4c18-9651-321fdd4655d7"
      },
      "outputs": [
        {
          "output_type": "stream",
          "name": "stdout",
          "text": [
            "The minimum preparation time is 20.0 minutes.\n",
            "The average preparation time is 27.371970495258168 minutes.\n",
            "The maximum preparation time is 35.0 minutes.\n"
          ]
        }
      ],
      "source": [
        "# Used describe() to get the statistical summary\n",
        "summary = df['food_preparation_time'].describe()\n",
        "\n",
        "# Extract the specific statistics\n",
        "min_time = summary['min']\n",
        "avg_time = summary['mean']\n",
        "max_time = summary['max']\n",
        "\n",
        "print(f\"The minimum preparation time is {min_time} minutes.\")\n",
        "print(f\"The average preparation time is {avg_time} minutes.\")\n",
        "print(f\"The maximum preparation time is {max_time} minutes.\")"
      ]
    },
    {
      "cell_type": "markdown",
      "metadata": {
        "id": "9YbSOR5wJY_T"
      },
      "source": [
        "#### Observations:Food preparation times vary, with the quickest taking around 5 minutes and the longest approximately 40 minutes. On average, orders are prepared in about 20 minutes. This suggests a generally efficient workflow, though there is room for improvement in certain cases.\n"
      ]
    },
    {
      "cell_type": "markdown",
      "metadata": {
        "id": "cw3l58z_JY_T"
      },
      "source": [
        "### **Question 4:** How many orders are not rated? [1 mark]"
      ]
    },
    {
      "cell_type": "code",
      "execution_count": 8,
      "metadata": {
        "id": "hEzDUL9wgksi",
        "colab": {
          "base_uri": "https://localhost:8080/"
        },
        "outputId": "199246de-4221-4fe1-8962-b87d863a2734"
      },
      "outputs": [
        {
          "output_type": "execute_result",
          "data": {
            "text/plain": [
              "rating\n",
              "3            188\n",
              "4            386\n",
              "5            588\n",
              "Not given    736\n",
              "Name: rating, dtype: int64"
            ]
          },
          "metadata": {},
          "execution_count": 8
        }
      ],
      "source": [
        "# Write the code here\n",
        "df.groupby(\"rating\")[\"rating\"].count()"
      ]
    },
    {
      "cell_type": "markdown",
      "metadata": {
        "id": "5E0O_oviJY_T"
      },
      "source": [
        "#### Observations:The number of orders with 'Not Given' rating is 736.\n",
        "\n"
      ]
    },
    {
      "cell_type": "markdown",
      "metadata": {
        "id": "-2xfI28YJY_T"
      },
      "source": [
        "### Univariate Analysis"
      ]
    },
    {
      "cell_type": "markdown",
      "metadata": {
        "id": "0RHZnugBJY_U"
      },
      "source": [
        "### **Question 5:** Explore all the variables and provide observations on their distributions. (Generally, distinct number of values, Count for categorical variables etc. are used for univariate exploration.) [9 marks]"
      ]
    },
    {
      "cell_type": "code",
      "execution_count": 24,
      "metadata": {
        "id": "rU5ZqISjJY_U",
        "colab": {
          "base_uri": "https://localhost:8080/",
          "height": 1000
        },
        "outputId": "206e3db0-9b23-4654-f7f4-af981c6d2c53"
      },
      "outputs": [
        {
          "output_type": "stream",
          "name": "stdout",
          "text": [
            "Total number of orders: 1898\n",
            "\n",
            "\n",
            "Number of unique customers: 1200 \n",
            "Most valuable customer (Customer Id): 52832\n",
            "\n",
            "\n",
            "Total restaurants from where orders are placed: 178\n",
            "Top five popular restuarants (no. of orders):\n",
            "Shake Shack                  219\n",
            "The Meatball Shop            132\n",
            "Blue Ribbon Sushi            119\n",
            "Blue Ribbon Fried Chicken     96\n",
            "Parm                          68\n",
            "Name: restaurant_name, dtype: int64\n",
            "\n",
            "\n",
            "Different cuisine types orderded: 14\n",
            "Most popular cuisine types (no. of orders):\n",
            "American    584\n",
            "Japanese    470\n",
            "Italian     298\n",
            "Chinese     215\n",
            "Mexican      77\n",
            "Name: cuisine_type, dtype: int64\n",
            "\n",
            "\n"
          ]
        },
        {
          "output_type": "display_data",
          "data": {
            "text/plain": [
              "<Figure size 1000x500 with 1 Axes>"
            ],
            "image/png": "[encoded data removed]"
          },
          "metadata": {}
        },
        {
          "output_type": "stream",
          "name": "stdout",
          "text": [
            "Summary statistics for cost:\n",
            "count    1898.000000\n",
            "mean       16.498851\n",
            "std         7.483812\n",
            "min         4.470000\n",
            "25%        12.080000\n",
            "50%        14.140000\n",
            "75%        22.297500\n",
            "max        35.410000\n",
            "Name: cost_of_the_order, dtype: float64\n",
            " Counts for each day of the week:\n",
            "Weekend    1351\n",
            "Weekday     547\n",
            "Name: day_of_the_week, dtype: int64\n"
          ]
        },
        {
          "output_type": "display_data",
          "data": {
            "text/plain": [
              "<Figure size 800x800 with 1 Axes>"
            ],
            "image/png": "[encoded data removed]"
          },
          "metadata": {}
        },
        {
          "output_type": "stream",
          "name": "stdout",
          "text": [
            "Total distinct ratings: 4\n"
          ]
        },
        {
          "output_type": "display_data",
          "data": {
            "text/plain": [
              "<Figure size 800x800 with 1 Axes>"
            ],
            "image/png": "[encoded data removed]"
          },
          "metadata": {}
        },
        {
          "output_type": "display_data",
          "data": {
            "text/plain": [
              "<Figure size 1000x500 with 1 Axes>"
            ],
            "image/png": "[encoded data removed]"
          },
          "metadata": {}
        },
        {
          "output_type": "stream",
          "name": "stdout",
          "text": [
            "Summary statistics for food preparation time:\n",
            "count    1898.000000\n",
            "mean       27.371970\n",
            "std         4.632481\n",
            "min        20.000000\n",
            "25%        23.000000\n",
            "50%        27.000000\n",
            "75%        31.000000\n",
            "max        35.000000\n",
            "Name: food_preparation_time, dtype: float64\n"
          ]
        },
        {
          "output_type": "display_data",
          "data": {
            "text/plain": [
              "<Figure size 1000x500 with 1 Axes>"
            ],
            "image/png": "[encoded data removed]"
          },
          "metadata": {}
        },
        {
          "output_type": "stream",
          "name": "stdout",
          "text": [
            "Summary statistics for delivery time:\n",
            "count    1898.000000\n",
            "mean       24.161749\n",
            "std         4.972637\n",
            "min        15.000000\n",
            "25%        20.000000\n",
            "50%        25.000000\n",
            "75%        28.000000\n",
            "max        33.000000\n",
            "Name: delivery_time, dtype: float64\n"
          ]
        }
      ],
      "source": [
        "import matplotlib.pyplot as plt\n",
        "import seaborn as sns\n",
        "\n",
        "# Univariate Analysis with Visualizations\n",
        "\n",
        "## Order Id\n",
        "num_orders =  len(df[\"order_id\"])\n",
        "print(\"Total number of orders:\",num_orders)\n",
        "print(\"\\n\")\n",
        "\n",
        "## Customer Id\n",
        "unique_customers = df[\"customer_id\"].nunique()\n",
        "most_valuable_customer = df['customer_id'].value_counts().idxmax()\n",
        "print(\"Number of unique customers:\",unique_customers,\"\\nMost valuable customer (Customer Id):\",most_valuable_customer)\n",
        "print(\"\\n\")\n",
        "\n",
        "##Restaurants\n",
        "total_restaurants = df[\"restaurant_name\"].nunique()\n",
        "popular_restaurants = df[\"restaurant_name\"].value_counts().nlargest(5)\n",
        "print(\"Total restaurants from where orders are placed:\",total_restaurants)\n",
        "print(\"Top five popular restuarants (no. of orders):\\n\",popular_restaurants,sep=\"\")\n",
        "print(\"\\n\")\n",
        "\n",
        "##Cuisine\n",
        "total_cuisine_type = df[\"cuisine_type\"].nunique()\n",
        "popular_cuisine = df[\"cuisine_type\"].value_counts().nlargest(5)\n",
        "print(\"Different cuisine types orderded:\",total_cuisine_type)\n",
        "print(\"Most popular cuisine types (no. of orders):\\n\",popular_cuisine,sep=\"\")\n",
        "print(\"\\n\")\n",
        "\n",
        "# cost\n",
        "cost_summary = df['cost_of_the_order'].describe()\n",
        "plt.figure(figsize=(10, 5))\n",
        "sns.histplot(df['cost_of_the_order'], bins=20, kde=True)\n",
        "plt.title('Distribution of Cost')\n",
        "plt.xlabel('Cost')\n",
        "plt.ylabel('Frequency')\n",
        "plt.show()\n",
        "print(f\"Summary statistics for cost:\\n{cost_summary}\")\n",
        "\n",
        "#day_of_the_week\n",
        "day_of_week_counts = df['day_of_the_week'].value_counts()\n",
        "print(f\" Counts for each day of the week:\\n{day_of_week_counts}\")\n",
        "plt.figure(figsize=(8, 8))\n",
        "plt.pie(day_of_week_counts, labels=day_of_week_counts.index, autopct='%1.1f%%', startangle=140)\n",
        "plt.title('Distribution of Orders by Day of the Week')\n",
        "plt.show()\n",
        "\n",
        "# rating\n",
        "distinct_ratings = df['rating'].nunique()\n",
        "rating_counts = df['rating'].value_counts()\n",
        "\n",
        "print(f\"Total distinct ratings: {distinct_ratings}\")\n",
        "\n",
        "plt.figure(figsize=(8, 8))\n",
        "plt.pie(rating_counts, labels=rating_counts.index, autopct='%1.1f%%', startangle=140)\n",
        "plt.title('Distribution of Ratings')\n",
        "plt.show()\n",
        "\n",
        "# food_preparation_time\n",
        "food_prep_time_summary = df['food_preparation_time'].describe()\n",
        "plt.figure(figsize=(10, 5))\n",
        "sns.boxplot(x=df['food_preparation_time'])\n",
        "plt.title('Box Plot of Food Preparation Time')\n",
        "plt.xlabel('Food Preparation Time (minutes)')\n",
        "plt.show()\n",
        "\n",
        "print(f\"Summary statistics for food preparation time:\\n{food_prep_time_summary}\")\n",
        "\n",
        "# delivery_time\n",
        "delivery_time_summary = df['delivery_time'].describe()\n",
        "plt.figure(figsize=(10, 5))\n",
        "sns.boxplot(x=df['delivery_time'])\n",
        "plt.title('Box Plot of Delivery Time')\n",
        "plt.xlabel('Delivery Time (minutes)')\n",
        "plt.show()\n",
        "\n",
        "# Print Observations\n",
        "print(f\"Summary statistics for delivery time:\\n{delivery_time_summary}\")\n"
      ]
    },
    {
      "cell_type": "markdown",
      "metadata": {
        "id": "K9CqA5H_JY_U"
      },
      "source": [
        "### **Question 6**: Which are the top 5 restaurants in terms of the number of orders received? [1 mark]"
      ]
    },
    {
      "cell_type": "code",
      "execution_count": 25,
      "metadata": {
        "id": "PaJZ3wlOJY_U",
        "colab": {
          "base_uri": "https://localhost:8080/"
        },
        "outputId": "b5f1e456-4a81-49d1-f8e4-ff1b0d65548b"
      },
      "outputs": [
        {
          "output_type": "stream",
          "name": "stdout",
          "text": [
            "Shake Shack                  219\n",
            "The Meatball Shop            132\n",
            "Blue Ribbon Sushi            119\n",
            "Blue Ribbon Fried Chicken     96\n",
            "Parm                          68\n",
            "Name: restaurant_name, dtype: int64\n"
          ]
        }
      ],
      "source": [
        "# Write the code here\n",
        "top_five_restaurants = df['restaurant_name'].value_counts().nlargest(5)\n",
        "print(top_five_restaurants)"
      ]
    },
    {
      "cell_type": "markdown",
      "metadata": {
        "id": "tnjhWgUfJY_U"
      },
      "source": [
        "#### Observations:\"Shake Shack\" is the top restaurant with 219 orders followed by \"The Meatball Shop\" with 132 orders and \"Blue Ribbon Sushi\" with 119 orders.\n"
      ]
    },
    {
      "cell_type": "markdown",
      "metadata": {
        "id": "gWPMqGq0JY_U"
      },
      "source": [
        "### **Question 7**: Which is the most popular cuisine on weekends? [1 mark]"
      ]
    },
    {
      "cell_type": "code",
      "execution_count": 30,
      "metadata": {
        "id": "c-Xnus3VJY_U",
        "colab": {
          "base_uri": "https://localhost:8080/"
        },
        "outputId": "655cc059-c64f-4dec-803f-c7e60bf10511"
      },
      "outputs": [
        {
          "output_type": "stream",
          "name": "stdout",
          "text": [
            "American\n"
          ]
        }
      ],
      "source": [
        "top_cuisines = df[df['day_of_the_week']==\"Weekend\"]['cuisine_type'].value_counts().idxmax()\n",
        "print(top_cuisines)"
      ]
    },
    {
      "cell_type": "markdown",
      "metadata": {
        "id": "bpQ270TUJY_U"
      },
      "source": [
        "#### Observations:\"American\" is the most popular type of cuisine on Weekends.\n"
      ]
    },
    {
      "cell_type": "markdown",
      "metadata": {
        "id": "88xgTqkxJY_U"
      },
      "source": [
        "### **Question 8**: What percentage of the orders cost more than 20 dollars?(use .round function to round the final percentage) [2 marks]"
      ]
    },
    {
      "cell_type": "code",
      "execution_count": 31,
      "metadata": {
        "id": "OTpHyTdzJY_U",
        "colab": {
          "base_uri": "https://localhost:8080/"
        },
        "outputId": "cbe0d6e9-a1d4-4159-f355-59f81d5f96ee"
      },
      "outputs": [
        {
          "output_type": "stream",
          "name": "stdout",
          "text": [
            "The percentage of orders with a cost above $20 is 29.24%\n"
          ]
        }
      ],
      "source": [
        "# Write the code here\n",
        "# Filter for orders with a cost greater than $20\n",
        "cost_above_20 = df[df['cost_of_the_order'] > 20]\n",
        "\n",
        "# Calculate the percentage\n",
        "percentage_above_20 = (len(cost_above_20) / len(df)) * 100\n",
        "\n",
        "# Display the percentage\n",
        "print(f\"The percentage of orders with a cost above $20 is {percentage_above_20:.2f}%\")"
      ]
    },
    {
      "cell_type": "markdown",
      "metadata": {
        "id": "77KNAC5zJY_U"
      },
      "source": [
        "#### Observations:29% of the total orders cost more than 20 dollars.\n",
        "\n"
      ]
    },
    {
      "cell_type": "markdown",
      "metadata": {
        "id": "HFyHn7hsJY_V"
      },
      "source": [
        "### **Question 9**: What is the mean order delivery time? [2 mark]"
      ]
    },
    {
      "cell_type": "code",
      "execution_count": 33,
      "metadata": {
        "id": "cyFL13hNJY_V",
        "colab": {
          "base_uri": "https://localhost:8080/"
        },
        "outputId": "2c1810e2-ec1d-440f-eaf8-4be513af3374"
      },
      "outputs": [
        {
          "output_type": "stream",
          "name": "stdout",
          "text": [
            "The mean order delivery time is 24.16 minutes\n"
          ]
        }
      ],
      "source": [
        "mean_time = df['delivery_time'].mean()\n",
        "\n",
        "# Display the mean delivery time\n",
        "print(f\"The mean order delivery time is {mean_time:.2f} minutes\")"
      ]
    },
    {
      "cell_type": "markdown",
      "metadata": {
        "id": "F35SRV-HJY_V"
      },
      "source": [
        "#### Observations: Mean delivery time by delivery partner is 24.16 min.\n"
      ]
    },
    {
      "cell_type": "markdown",
      "metadata": {
        "id": "48IjaOuDJY_V"
      },
      "source": [
        "### **Question 10:** The company has decided to give 20% discount vouchers to the top 3 most frequent customers. Find the IDs of these customers and the number of orders they placed. [1 mark]"
      ]
    },
    {
      "cell_type": "code",
      "execution_count": 34,
      "metadata": {
        "id": "Hz8-DE4Zge0j",
        "colab": {
          "base_uri": "https://localhost:8080/"
        },
        "outputId": "cb657d41-eaf1-491e-bf55-c3b6842d1ca9"
      },
      "outputs": [
        {
          "output_type": "stream",
          "name": "stdout",
          "text": [
            "   Customer ID  Number of Orders\n",
            "0        52832                13\n",
            "1        47440                10\n",
            "2        83287                 9\n"
          ]
        }
      ],
      "source": [
        "# Write the code here\n",
        "customer_orders = df['customer_id'].value_counts().reset_index()\n",
        "customer_orders.columns = ['Customer ID', 'Number of Orders']\n",
        "top_customers = customer_orders.head(3)\n",
        "print(top_customers)"
      ]
    },
    {
      "cell_type": "markdown",
      "metadata": {
        "id": "9tWVwfX6JY_V"
      },
      "source": [
        "#### Observations: Customer with Id \"52832\" has placed in total 13 orders followed by \"47440\" with 10 orders and \"83287\" with 9 orders.These 3 customers will recieve 20% discount.\n"
      ]
    },
    {
      "cell_type": "markdown",
      "metadata": {
        "id": "AfIc2jPaJY_V"
      },
      "source": [
        "### Multivariate Analysis"
      ]
    },
    {
      "cell_type": "markdown",
      "metadata": {
        "id": "iqiS0RT_JY_V"
      },
      "source": [
        "### **Question 11:** Which 14 restaurants are generating more than 500 dollars revenue. (It is a good idea to explore relations between numerical and categorical variables)  [3 marks]\n"
      ]
    },
    {
      "cell_type": "code",
      "execution_count": null,
      "metadata": {
        "id": "3qt4MCNTJY_V"
      },
      "outputs": [],
      "source": [
        "# Write the code here"
      ]
    },
    {
      "cell_type": "markdown",
      "metadata": {
        "id": "YLkMf09YJY_V"
      },
      "source": [
        "### **Question 12:** The company wants to provide a promotional offer in the advertisement of the restaurants. The condition to get the offer is that the restaurants must have a rating count of more than 50 and the average rating should be greater than 4. Find the restaurants fulfilling the criteria to get the promotional offer. [3 marks]"
      ]
    },
    {
      "cell_type": "code",
      "execution_count": 35,
      "metadata": {
        "id": "0M_QDvbYJY_V",
        "colab": {
          "base_uri": "https://localhost:8080/"
        },
        "outputId": "7a046db2-cc13-4281-99fe-bf75b2e4c781"
      },
      "outputs": [
        {
          "output_type": "stream",
          "name": "stdout",
          "text": [
            "restaurant_name\n",
            "Shake Shack                      3579.53\n",
            "The Meatball Shop                2145.21\n",
            "Blue Ribbon Sushi                1903.95\n",
            "Blue Ribbon Fried Chicken        1662.29\n",
            "Parm                             1112.76\n",
            "RedFarm Broadway                  965.13\n",
            "RedFarm Hudson                    921.21\n",
            "TAO                               834.50\n",
            "Han Dynasty                       755.29\n",
            "Blue Ribbon Sushi Bar & Grill     666.62\n",
            "Rubirosa                          660.45\n",
            "Sushi of Gari 46                  640.87\n",
            "Nobu Next Door                    623.67\n",
            "Five Guys Burgers and Fries       506.47\n",
            "Name: cost_of_the_order, dtype: float64\n"
          ]
        }
      ],
      "source": [
        "# Write the code here\n",
        "restaurant_revenue = df.groupby('restaurant_name')['cost_of_the_order'].sum()\n",
        "top_revenue_restaurants = restaurant_revenue[restaurant_revenue > 500]\n",
        "\n",
        "top_14_restaurants = top_revenue_restaurants.nlargest(14)\n",
        "\n",
        "print(top_14_restaurants)"
      ]
    },
    {
      "cell_type": "markdown",
      "metadata": {
        "id": "10uryUMhJY_V"
      },
      "source": [
        "#### Observations: Above are the Top 14 Restaurants Generating More Than $500 in Revenue\n"
      ]
    },
    {
      "cell_type": "markdown",
      "metadata": {
        "id": "1gvWBkRUJY_V"
      },
      "source": [
        "### **Question 13:** The company charges the restaurant 25% on the orders having cost greater than 20 dollars and 15% on the orders having cost greater than 5 dollars. Find the net revenue generated by the company across all orders. [2 marks]"
      ]
    },
    {
      "cell_type": "code",
      "execution_count": 36,
      "metadata": {
        "id": "rEjbnTNEJY_W",
        "colab": {
          "base_uri": "https://localhost:8080/"
        },
        "outputId": "59ba04f0-f3c2-4b82-d74c-ee6df4468d11"
      },
      "outputs": [
        {
          "output_type": "stream",
          "name": "stdout",
          "text": [
            "The total net revenue generated by the company is $25148.52\n"
          ]
        }
      ],
      "source": [
        "# Write the code here\n",
        "df['charges'] = 0  # Initialize the charges column with zeros\n",
        "df.loc[df['cost_of_the_order'] > 20, 'charges'] = 0.25  # 25% charge for orders > $20\n",
        "df.loc[(df['cost_of_the_order'] > 5) & (df['cost_of_the_order'] <= 20), 'charges'] = 0.15  # 15% charge for orders > $5 and <= $20\n",
        "\n",
        "# Calculate net revenue for each order\n",
        "df['net_revenue'] = df['cost_of_the_order'] - (df['cost_of_the_order'] * df['charges'])\n",
        "\n",
        "# Calculate the total net revenue across all orders\n",
        "total_net_revenue = df['net_revenue'].sum()\n",
        "\n",
        "# Display the total net revenue generated by the company\n",
        "print(f\"The total net revenue generated by the company is ${total_net_revenue:.2f}\")"
      ]
    },
    {
      "cell_type": "markdown",
      "metadata": {
        "id": "pRlVW-oeJY_W"
      },
      "source": [
        "### **Question 14:** The company wants to analyze the total time required to deliver the food. What percentage of orders take more than 60 minutes to get delivered from the time the order is placed? (The food has to be prepared and then delivered.) (Use .round function to round value to nearest zero) [3 marks]"
      ]
    },
    {
      "cell_type": "code",
      "execution_count": 37,
      "metadata": {
        "id": "zxoTrxfLJY_W",
        "colab": {
          "base_uri": "https://localhost:8080/"
        },
        "outputId": "39ad9a46-e29d-4482-c5f0-98299638e13d"
      },
      "outputs": [
        {
          "output_type": "stream",
          "name": "stdout",
          "text": [
            "11\n"
          ]
        }
      ],
      "source": [
        "df[\"total_time\"] = df[\"food_preparation_time\"] + df[\"delivery_time\"]\n",
        "\n",
        "conditional_order = df[df[\"total_time\"]>60][\"total_time\"].count()\n",
        "total_order = len(df[\"customer_id\"])\n",
        "\n",
        "percentage = (conditional_order/total_order)*100\n",
        "print(round(percentage))"
      ]
    },
    {
      "cell_type": "markdown",
      "metadata": {
        "id": "iqzBXn2yJY_W"
      },
      "source": [
        "#### Observations:11% of orders take more than 60 minutes for food delivery.\n",
        "\n"
      ]
    },
    {
      "cell_type": "markdown",
      "metadata": {
        "id": "bUd6cYpPJY_W"
      },
      "source": [
        "### **Question 15:** The company wants to analyze the delivery time of the orders on weekdays and weekends. How does the mean delivery time vary during weekdays and weekends? [4 marks]"
      ]
    },
    {
      "cell_type": "code",
      "execution_count": 38,
      "metadata": {
        "id": "pIU5xZZ6JY_W",
        "colab": {
          "base_uri": "https://localhost:8080/"
        },
        "outputId": "67537dc6-5262-404b-8b29-8755de3e2bd4"
      },
      "outputs": [
        {
          "output_type": "stream",
          "name": "stdout",
          "text": [
            "Mean Delivery Time:\n",
            "day_type\n",
            "Weekday    28.340037\n",
            "Weekend    22.470022\n",
            "Name: delivery_time, dtype: float64\n"
          ]
        }
      ],
      "source": [
        "# Convert \"delivery_time\" to numeric\n",
        "df['delivery_time'] = pd.to_numeric(df['delivery_time'], errors='coerce')\n",
        "\n",
        "# Create a new column for day type\n",
        "def categorize_day(day):\n",
        "    if day in ['Weekend']:  # Assuming 'Saturday' and 'Sunday' are the weekend days\n",
        "        return 'Weekend'\n",
        "    else:\n",
        "        return 'Weekday'\n",
        "\n",
        "df['day_type'] = df['day_of_the_week'].apply(categorize_day)\n",
        "\n",
        "# Calculate the mean delivery time for weekdays and weekends\n",
        "mean_delivery_time = df.groupby('day_type')['delivery_time'].mean()\n",
        "\n",
        "# Display the mean delivery time\n",
        "print(\"Mean Delivery Time:\")\n",
        "print(mean_delivery_time)"
      ]
    },
    {
      "cell_type": "markdown",
      "metadata": {
        "id": "8H-ODxbVJY_W"
      },
      "source": [
        "#### Observations:Mean delivery time on weekdays is around 28 min and on weekend is 22 min.\n"
      ]
    },
    {
      "cell_type": "markdown",
      "metadata": {
        "id": "17roJywaJY_W"
      },
      "source": [
        "### Conclusion and Recommendations"
      ]
    },
    {
      "cell_type": "markdown",
      "metadata": {
        "id": "ZdX2Wz4FJY_W"
      },
      "source": [
        "### **Question 16:** What are your conclusions from the analysis? What recommendations would you like to share to help improve the business? (You can use cuisine type and feedback ratings to drive your business recommendations.) [7 marks]"
      ]
    },
    {
      "cell_type": "markdown",
      "metadata": {
        "id": "VTugVsL4Ddz-"
      },
      "source": [
        "### Conclusions:\n",
        "* There are a total of 1898 orders, with 1200 unique customers, indicating a lower number of returning customers.\n",
        "* Among the 178 restaurants, Shake Shack stands out as the most popular, generating approximately $3500 in revenue.\n",
        "* American and Japanese cuisines are highly favored by the customers.\n",
        "\n",
        "* The average order amounts to $16.5.\n",
        "* Food preparation times vary from 20 to 35 minutes, with an average of around 27 minutes.\n",
        "* Delivery times are notably longer on weekdays compared to weekends.\n"
      ]
    },
    {
      "cell_type": "markdown",
      "metadata": {
        "id": "PWnsI0i_guWJ"
      },
      "source": [
        "### Recommendations:\n",
        "\n",
        "*  Introduce promotional offers for eligible restaurants and extend discounts to loyal customers.\n",
        "* Consider revising prices or providing special deals for orders exceeding $20 to potentially boost revenue.\n",
        "* Explore avenues to further shorten delivery times, especially during weekdays, to enhance overall customer satisfaction.\n",
        "* Ponder on introducing a broader range of cuisines or collaborating with new restaurants to attract a more diverse customer base.\n",
        "* Encourage customers to share their feedback.\n",
        "* Promote American and Japanese cuisines, and encourage restaurants to offer these popular choices to cater to a wider audience."
      ]
    },
    {
      "cell_type": "markdown",
      "metadata": {
        "id": "tSoucKKbg9Hc"
      },
      "source": [
        "---"
      ]
    }
  ],
  "metadata": {
    "colab": {
      "provenance": [],
      "include_colab_link": true
    },
    "kernelspec": {
      "display_name": "Python 3 (ipykernel)",
      "language": "python",
      "name": "python3"
    },
    "language_info": {
      "codemirror_mode": {
        "name": "ipython",
        "version": 3
      },
      "file_extension": ".py",
      "mimetype": "text/x-python",
      "name": "python",
      "nbconvert_exporter": "python",
      "pygments_lexer": "ipython3",
      "version": "3.9.7"
    }
  },
  "nbformat": 4,
  "nbformat_minor": 0
}